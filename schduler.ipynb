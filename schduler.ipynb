{
 "cells": [
  {
   "cell_type": "code",
   "execution_count": 1,
   "metadata": {},
   "outputs": [],
   "source": [
    "import simpy\n",
    "import numpy as np"
   ]
  },
  {
   "cell_type": "code",
   "execution_count": 2,
   "metadata": {},
   "outputs": [],
   "source": [
    "# 시뮬레이션 파라미터\n",
    "num_vehicles = 10\n",
    "vehicle_speed = 140 / 3.6  # km/h를 m/s로 변환\n",
    "resource_pool_size = 10  # 사용 가능한 서브프레임 수\n",
    "transmission_power = 23  # dBm\n",
    "cam_size = 190  # bytes\n",
    "cam_periodicity = 0.1  # seconds\n",
    "subframe_duration = 0.001  # seconds\n",
    "doca_length = 500  # meters\n",
    "control_period_duration = resource_pool_size * subframe_duration  # 제어 주기의 길이\n",
    "env = simpy.Environment()"
   ]
  },
  {
   "cell_type": "code",
   "execution_count": 3,
   "metadata": {},
   "outputs": [],
   "source": [
    "# 전송 및 수신 카운터\n",
    "total_packets_sent = 0\n",
    "successful_packets_received = 0"
   ]
  },
  {
   "cell_type": "code",
   "execution_count": 4,
   "metadata": {},
   "outputs": [],
   "source": [
    "# 스케줄러 클래스\n",
    "class Scheduler:\n",
    "    def __init__(self, env, num_subframes):\n",
    "        self.env = env\n",
    "        self.num_subframes = num_subframes\n",
    "        self.subframe_usage = [False] * num_subframes  # 각 서브프레임의 사용 여부\n",
    "\n",
    "    def allocate_subframe(self):\n",
    "        for i in range(self.num_subframes):\n",
    "            if not self.subframe_usage[i]:\n",
    "                self.subframe_usage[i] = True\n",
    "                return i\n",
    "        return None  # 모든 서브프레임이 사용중이라면 None 반환\n",
    "\n",
    "    def release_subframe(self, subframe):\n",
    "        self.subframe_usage[subframe] = False  # 서브프레임 사용 종료"
   ]
  },
  {
   "cell_type": "code",
   "execution_count": 5,
   "metadata": {},
   "outputs": [],
   "source": [
    "# 차량 모델\n",
    "class Vehicle:\n",
    "    def __init__(self, env, id, speed, scheduler):\n",
    "        self.env = env\n",
    "        self.id = id\n",
    "        self.speed = speed\n",
    "        self.scheduler = scheduler\n",
    "        self.action = env.process(self.run())\n",
    "\n",
    "    def run(self):\n",
    "        global total_packets_sent, successful_packets_received\n",
    "        print(\"processing...\")\n",
    "        while True:\n",
    "            # CAM 생성 및 스케줄러로부터 서브프레임 할당 받기\n",
    "            subframe = self.scheduler.allocate_subframe()\n",
    "            if subframe is not None:  # 서브프레임 할당 성공\n",
    "                total_packets_sent += 1\n",
    "                yield self.env.timeout(cam_periodicity)  # CAM 주기 대기\n",
    "                # 패킷 전송 (서브프레임 지속 시간 동안)\n",
    "                yield self.env.timeout(subframe_duration)\n",
    "                successful_packets_received += 1  # 성공적인 패킷 수신 가정\n",
    "                self.scheduler.release_subframe(subframe)  # 서브프레임 해제\n",
    "                print(f\"Time {self.env.now}: Vehicle {self.id} transmitted a CAM on subframe {subframe}.\")\n",
    "            else:  # 서브프레임 할당 실패\n",
    "                print(\"fail allocation subFrame\")\n",
    "                yield self.env.timeout(cam_periodicity)  # 다음 주기까지 대기"
   ]
  },
  {
   "cell_type": "code",
   "execution_count": 6,
   "metadata": {},
   "outputs": [],
   "source": [
    "# 스케줄러 인스턴스 생성\n",
    "scheduler = Scheduler(env, resource_pool_size)"
   ]
  },
  {
   "cell_type": "code",
   "execution_count": 7,
   "metadata": {},
   "outputs": [
    {
     "name": "stdout",
     "output_type": "stream",
     "text": [
      "processing...\n",
      "processing...\n",
      "processing...\n",
      "processing...\n",
      "processing...\n",
      "processing...\n",
      "processing...\n",
      "processing...\n",
      "processing...\n",
      "processing...\n",
      "Time 0.101: Vehicle 0 transmitted a CAM on subframe 0.\n",
      "Time 0.101: Vehicle 1 transmitted a CAM on subframe 1.\n",
      "Time 0.101: Vehicle 2 transmitted a CAM on subframe 2.\n",
      "Time 0.101: Vehicle 3 transmitted a CAM on subframe 3.\n",
      "Time 0.101: Vehicle 4 transmitted a CAM on subframe 4.\n",
      "Time 0.101: Vehicle 5 transmitted a CAM on subframe 5.\n",
      "Time 0.101: Vehicle 6 transmitted a CAM on subframe 6.\n",
      "Time 0.101: Vehicle 7 transmitted a CAM on subframe 7.\n",
      "Time 0.101: Vehicle 8 transmitted a CAM on subframe 8.\n",
      "Time 0.101: Vehicle 9 transmitted a CAM on subframe 9.\n",
      "Time 0.202: Vehicle 0 transmitted a CAM on subframe 0.\n",
      "Time 0.202: Vehicle 1 transmitted a CAM on subframe 1.\n",
      "Time 0.202: Vehicle 2 transmitted a CAM on subframe 2.\n",
      "Time 0.202: Vehicle 3 transmitted a CAM on subframe 3.\n",
      "Time 0.202: Vehicle 4 transmitted a CAM on subframe 4.\n",
      "Time 0.202: Vehicle 5 transmitted a CAM on subframe 5.\n",
      "Time 0.202: Vehicle 6 transmitted a CAM on subframe 6.\n",
      "Time 0.202: Vehicle 7 transmitted a CAM on subframe 7.\n",
      "Time 0.202: Vehicle 8 transmitted a CAM on subframe 8.\n",
      "Time 0.202: Vehicle 9 transmitted a CAM on subframe 9.\n",
      "Time 0.30300000000000005: Vehicle 0 transmitted a CAM on subframe 0.\n",
      "Time 0.30300000000000005: Vehicle 1 transmitted a CAM on subframe 1.\n",
      "Time 0.30300000000000005: Vehicle 2 transmitted a CAM on subframe 2.\n",
      "Time 0.30300000000000005: Vehicle 3 transmitted a CAM on subframe 3.\n",
      "Time 0.30300000000000005: Vehicle 4 transmitted a CAM on subframe 4.\n",
      "Time 0.30300000000000005: Vehicle 5 transmitted a CAM on subframe 5.\n",
      "Time 0.30300000000000005: Vehicle 6 transmitted a CAM on subframe 6.\n",
      "Time 0.30300000000000005: Vehicle 7 transmitted a CAM on subframe 7.\n",
      "Time 0.30300000000000005: Vehicle 8 transmitted a CAM on subframe 8.\n",
      "Time 0.30300000000000005: Vehicle 9 transmitted a CAM on subframe 9.\n",
      "Time 0.404: Vehicle 0 transmitted a CAM on subframe 0.\n",
      "Time 0.404: Vehicle 1 transmitted a CAM on subframe 1.\n",
      "Time 0.404: Vehicle 2 transmitted a CAM on subframe 2.\n",
      "Time 0.404: Vehicle 3 transmitted a CAM on subframe 3.\n",
      "Time 0.404: Vehicle 4 transmitted a CAM on subframe 4.\n",
      "Time 0.404: Vehicle 5 transmitted a CAM on subframe 5.\n",
      "Time 0.404: Vehicle 6 transmitted a CAM on subframe 6.\n",
      "Time 0.404: Vehicle 7 transmitted a CAM on subframe 7.\n",
      "Time 0.404: Vehicle 8 transmitted a CAM on subframe 8.\n",
      "Time 0.404: Vehicle 9 transmitted a CAM on subframe 9.\n",
      "Time 0.505: Vehicle 0 transmitted a CAM on subframe 0.\n",
      "Time 0.505: Vehicle 1 transmitted a CAM on subframe 1.\n",
      "Time 0.505: Vehicle 2 transmitted a CAM on subframe 2.\n",
      "Time 0.505: Vehicle 3 transmitted a CAM on subframe 3.\n",
      "Time 0.505: Vehicle 4 transmitted a CAM on subframe 4.\n",
      "Time 0.505: Vehicle 5 transmitted a CAM on subframe 5.\n",
      "Time 0.505: Vehicle 6 transmitted a CAM on subframe 6.\n",
      "Time 0.505: Vehicle 7 transmitted a CAM on subframe 7.\n",
      "Time 0.505: Vehicle 8 transmitted a CAM on subframe 8.\n",
      "Time 0.505: Vehicle 9 transmitted a CAM on subframe 9.\n",
      "Time 0.606: Vehicle 0 transmitted a CAM on subframe 0.\n",
      "Time 0.606: Vehicle 1 transmitted a CAM on subframe 1.\n",
      "Time 0.606: Vehicle 2 transmitted a CAM on subframe 2.\n",
      "Time 0.606: Vehicle 3 transmitted a CAM on subframe 3.\n",
      "Time 0.606: Vehicle 4 transmitted a CAM on subframe 4.\n",
      "Time 0.606: Vehicle 5 transmitted a CAM on subframe 5.\n",
      "Time 0.606: Vehicle 6 transmitted a CAM on subframe 6.\n",
      "Time 0.606: Vehicle 7 transmitted a CAM on subframe 7.\n",
      "Time 0.606: Vehicle 8 transmitted a CAM on subframe 8.\n",
      "Time 0.606: Vehicle 9 transmitted a CAM on subframe 9.\n",
      "Time 0.707: Vehicle 0 transmitted a CAM on subframe 0.\n",
      "Time 0.707: Vehicle 1 transmitted a CAM on subframe 1.\n",
      "Time 0.707: Vehicle 2 transmitted a CAM on subframe 2.\n",
      "Time 0.707: Vehicle 3 transmitted a CAM on subframe 3.\n",
      "Time 0.707: Vehicle 4 transmitted a CAM on subframe 4.\n",
      "Time 0.707: Vehicle 5 transmitted a CAM on subframe 5.\n",
      "Time 0.707: Vehicle 6 transmitted a CAM on subframe 6.\n",
      "Time 0.707: Vehicle 7 transmitted a CAM on subframe 7.\n",
      "Time 0.707: Vehicle 8 transmitted a CAM on subframe 8.\n",
      "Time 0.707: Vehicle 9 transmitted a CAM on subframe 9.\n",
      "Time 0.8079999999999999: Vehicle 0 transmitted a CAM on subframe 0.\n",
      "Time 0.8079999999999999: Vehicle 1 transmitted a CAM on subframe 1.\n",
      "Time 0.8079999999999999: Vehicle 2 transmitted a CAM on subframe 2.\n",
      "Time 0.8079999999999999: Vehicle 3 transmitted a CAM on subframe 3.\n",
      "Time 0.8079999999999999: Vehicle 4 transmitted a CAM on subframe 4.\n",
      "Time 0.8079999999999999: Vehicle 5 transmitted a CAM on subframe 5.\n",
      "Time 0.8079999999999999: Vehicle 6 transmitted a CAM on subframe 6.\n",
      "Time 0.8079999999999999: Vehicle 7 transmitted a CAM on subframe 7.\n",
      "Time 0.8079999999999999: Vehicle 8 transmitted a CAM on subframe 8.\n",
      "Time 0.8079999999999999: Vehicle 9 transmitted a CAM on subframe 9.\n",
      "Time 0.9089999999999999: Vehicle 0 transmitted a CAM on subframe 0.\n",
      "Time 0.9089999999999999: Vehicle 1 transmitted a CAM on subframe 1.\n",
      "Time 0.9089999999999999: Vehicle 2 transmitted a CAM on subframe 2.\n",
      "Time 0.9089999999999999: Vehicle 3 transmitted a CAM on subframe 3.\n",
      "Time 0.9089999999999999: Vehicle 4 transmitted a CAM on subframe 4.\n",
      "Time 0.9089999999999999: Vehicle 5 transmitted a CAM on subframe 5.\n",
      "Time 0.9089999999999999: Vehicle 6 transmitted a CAM on subframe 6.\n",
      "Time 0.9089999999999999: Vehicle 7 transmitted a CAM on subframe 7.\n",
      "Time 0.9089999999999999: Vehicle 8 transmitted a CAM on subframe 8.\n",
      "Time 0.9089999999999999: Vehicle 9 transmitted a CAM on subframe 9.\n"
     ]
    }
   ],
   "source": [
    "# 차량 생성 및 시뮬레이션 시작\n",
    "vehicles = [Vehicle(env, i, vehicle_speed, scheduler) for i in range(num_vehicles)]\n",
    "\n",
    "number_of_control_periods = 100 #원하는 제어 주기 수\n",
    "\n",
    "total_simulation_time = control_period_duration * number_of_control_periods\n",
    "\n",
    "env.run(until=total_simulation_time)  # 하나의 제어 주기 동안 실행"
   ]
  },
  {
   "cell_type": "code",
   "execution_count": 9,
   "metadata": {},
   "outputs": [
    {
     "name": "stdout",
     "output_type": "stream",
     "text": [
      "PRR: 0.90\n"
     ]
    }
   ],
   "source": [
    "# PRR 계산\n",
    "prr = successful_packets_received / total_packets_sent if total_packets_sent > 0 else 0\n",
    "print(f\"PRR: {prr:.2f}\")"
   ]
  },
  {
   "cell_type": "code",
   "execution_count": null,
   "metadata": {},
   "outputs": [],
   "source": []
  }
 ],
 "metadata": {
  "kernelspec": {
   "display_name": "v2v",
   "language": "python",
   "name": "python3"
  },
  "language_info": {
   "codemirror_mode": {
    "name": "ipython",
    "version": 3
   },
   "file_extension": ".py",
   "mimetype": "text/x-python",
   "name": "python",
   "nbconvert_exporter": "python",
   "pygments_lexer": "ipython3",
   "version": "3.9.18"
  }
 },
 "nbformat": 4,
 "nbformat_minor": 2
}
