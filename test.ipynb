{
 "cells": [
  {
   "cell_type": "code",
   "execution_count": 15,
   "metadata": {},
   "outputs": [],
   "source": [
    "import simpy\n",
    "import numpy as np"
   ]
  },
  {
   "cell_type": "code",
   "execution_count": 16,
   "metadata": {},
   "outputs": [],
   "source": [
    "# 시뮬레이션 파라미터\n",
    "num_vehicles = 10\n",
    "vehicle_speed = 140 / 3.6  # km/h를 m/s로 변환\n",
    "resource_pool_size = 10  # 사용 가능한 서브프레임 수\n",
    "transmission_power = 23  # dBm\n",
    "cam_size = 190  # bytes\n",
    "cam_periodicity = 0.1  # seconds\n",
    "subframe_duration = 0.001  # seconds\n",
    "doca_length = 500  # meters\n",
    "env = simpy.Environment()"
   ]
  },
  {
   "cell_type": "code",
   "execution_count": 17,
   "metadata": {},
   "outputs": [],
   "source": [
    "# 전송 및 수신 카운터\n",
    "total_packets_sent = 0\n",
    "successful_packets_received = 0"
   ]
  },
  {
   "cell_type": "code",
   "execution_count": 18,
   "metadata": {},
   "outputs": [],
   "source": [
    "# 차량 모델\n",
    "class Vehicle:\n",
    "    def __init__(self, env, id, speed, radio_blocks):\n",
    "        self.env = env\n",
    "        self.id = id\n",
    "        self.speed = speed\n",
    "        self.radio_blocks = radio_blocks\n",
    "        self.position = 0  # 초기 위치 0으로 설정\n",
    "        self.action = env.process(self.run())\n",
    "\n",
    "    def run(self):\n",
    "        global total_packets_sent, successful_packets_received\n",
    "        \n",
    "        while True:\n",
    "            # 도착 시간 간격은 Poisson 분포를 따릅니다.\n",
    "            yield self.env.timeout(np.random.poisson(3))\n",
    "            \n",
    "            # 차량 이동\n",
    "            self.position += self.speed * cam_periodicity\n",
    "            self.position %= doca_length  # DOCA를 벗어나면 위치를 초기화\n",
    "            \n",
    "            # 라디오 자원 할당 및 메시지 전송\n",
    "            resource_block = np.random.choice(self.radio_blocks)\n",
    "            with resource_block.request() as req:\n",
    "                yield req\n",
    "                total_packets_sent += 1\n",
    "                yield self.env.timeout(subframe_duration)\n",
    "                # 여기서는 패킷 수신이 항상 성공한다고 가정합니다.\n",
    "                successful_packets_received += 1\n",
    "                print(f\"Time {self.env.now}: Vehicle {self.id} transmitted a message on subframe {self.radio_blocks.index(resource_block)}.\")\n"
   ]
  },
  {
   "cell_type": "code",
   "execution_count": 19,
   "metadata": {},
   "outputs": [],
   "source": [
    "# 라디오 자원 블록 생성\n",
    "radio_blocks = [simpy.Resource(env) for _ in range(resource_pool_size)]"
   ]
  },
  {
   "cell_type": "code",
   "execution_count": 20,
   "metadata": {},
   "outputs": [
    {
     "name": "stdout",
     "output_type": "stream",
     "text": [
      "Time 1.001: Vehicle 0 transmitted a message on subframe 3.\n",
      "Time 1.001: Vehicle 9 transmitted a message on subframe 7.\n",
      "Time 1.0019999999999998: Vehicle 7 transmitted a message on subframe 3.\n",
      "Time 1.0029999999999997: Vehicle 7 transmitted a message on subframe 1.\n",
      "Time 2.001: Vehicle 2 transmitted a message on subframe 5.\n",
      "Time 2.002: Vehicle 6 transmitted a message on subframe 5.\n",
      "Time 3.001: Vehicle 1 transmitted a message on subframe 4.\n",
      "Time 3.001: Vehicle 4 transmitted a message on subframe 7.\n",
      "Time 3.001: Vehicle 5 transmitted a message on subframe 6.\n",
      "Time 3.001: Vehicle 8 transmitted a message on subframe 9.\n",
      "Time 3.002: Vehicle 4 transmitted a message on subframe 0.\n",
      "Time 3.002: Vehicle 2 transmitted a message on subframe 6.\n",
      "Time 4.002: Vehicle 5 transmitted a message on subframe 2.\n",
      "Time 4.003: Vehicle 4 transmitted a message on subframe 1.\n",
      "Time 4.003: Vehicle 2 transmitted a message on subframe 7.\n",
      "Time 4.0040000000000004: Vehicle 2 transmitted a message on subframe 3.\n",
      "Time 5.002: Vehicle 0 transmitted a message on subframe 5.\n",
      "Time 5.002: Vehicle 9 transmitted a message on subframe 7.\n",
      "Time 5.002: Vehicle 8 transmitted a message on subframe 0.\n",
      "Time 5.003: Vehicle 1 transmitted a message on subframe 5.\n",
      "Time 5.0040000000000004: Vehicle 7 transmitted a message on subframe 6.\n",
      "Time 6.005000000000001: Vehicle 7 transmitted a message on subframe 9.\n",
      "Time 7.001: Vehicle 3 transmitted a message on subframe 5.\n",
      "Time 7.003: Vehicle 6 transmitted a message on subframe 8.\n",
      "Time 7.003: Vehicle 0 transmitted a message on subframe 6.\n",
      "Time 7.003: Vehicle 9 transmitted a message on subframe 5.\n",
      "Time 7.003: Vehicle 8 transmitted a message on subframe 1.\n",
      "Time 7.0040000000000004: Vehicle 1 transmitted a message on subframe 7.\n",
      "Time 7.005000000000001: Vehicle 2 transmitted a message on subframe 3.\n",
      "Time 8.002999999999998: Vehicle 5 transmitted a message on subframe 7.\n",
      "Time 8.006: Vehicle 2 transmitted a message on subframe 2.\n",
      "Time 9.002: Vehicle 3 transmitted a message on subframe 5.\n",
      "Time 9.004: Vehicle 4 transmitted a message on subframe 0.\n",
      "Time 9.004: Vehicle 9 transmitted a message on subframe 4.\n"
     ]
    }
   ],
   "source": [
    "# 차량 생성 및 시뮬레이션 시작\n",
    "vehicles = [Vehicle(env, i, vehicle_speed, radio_blocks) for i in range(num_vehicles)]\n",
    "env.run(until=10)  # 시뮬레이션을 10초 동안 실행"
   ]
  },
  {
   "cell_type": "code",
   "execution_count": 21,
   "metadata": {},
   "outputs": [
    {
     "name": "stdout",
     "output_type": "stream",
     "text": [
      "PRR: 1.00\n"
     ]
    }
   ],
   "source": [
    "# PRR 계산\n",
    "prr = successful_packets_received / total_packets_sent if total_packets_sent > 0 else 0\n",
    "print(f\"PRR: {prr:.2f}\")"
   ]
  },
  {
   "cell_type": "code",
   "execution_count": null,
   "metadata": {},
   "outputs": [],
   "source": []
  }
 ],
 "metadata": {
  "kernelspec": {
   "display_name": "v2v",
   "language": "python",
   "name": "python3"
  },
  "language_info": {
   "codemirror_mode": {
    "name": "ipython",
    "version": 3
   },
   "file_extension": ".py",
   "mimetype": "text/x-python",
   "name": "python",
   "nbconvert_exporter": "python",
   "pygments_lexer": "ipython3",
   "version": "3.9.18"
  }
 },
 "nbformat": 4,
 "nbformat_minor": 2
}
